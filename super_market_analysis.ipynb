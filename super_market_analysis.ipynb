{
 "cells": [
  {
   "cell_type": "markdown",
   "id": "1585236e-247b-4633-9f09-aa398dbc7d2f",
   "metadata": {},
   "source": [
    "### Importing libraries"
   ]
  },
  {
   "cell_type": "code",
   "execution_count": 13,
   "id": "e5023598",
   "metadata": {},
   "outputs": [],
   "source": [
    "import pandas as pd\n",
    "import matplotlib.pyplot as plt"
   ]
  },
  {
   "cell_type": "markdown",
   "id": "6d2259f2",
   "metadata": {},
   "source": [
    "##### Create a dataframe, sales, from a csv file _supermarket\\_sales.csv_"
   ]
  },
  {
   "cell_type": "code",
   "execution_count": 14,
   "id": "286709db",
   "metadata": {},
   "outputs": [],
   "source": [
    "sm_sales = pd.read_csv(\"C:/Users/Jeth_Nico/Desktop/PythonProjects/AdvancedProjects/supermarket_sales.csv\")"
   ]
  },
  {
   "cell_type": "markdown",
   "id": "0cd887c4",
   "metadata": {},
   "source": [
    "##### Checking **sm_sales** dataframe information using the `info()` method. Displaying the first 5 rows and all the columns of the dataframe using `head()` method."
   ]
  },
  {
   "cell_type": "code",
   "execution_count": 15,
   "id": "7cb5fdd5",
   "metadata": {},
   "outputs": [
    {
     "name": "stdout",
     "output_type": "stream",
     "text": [
      "<class 'pandas.core.frame.DataFrame'>\n",
      "RangeIndex: 1007 entries, 0 to 1006\n",
      "Data columns (total 13 columns):\n",
      " #   Column         Non-Null Count  Dtype  \n",
      "---  ------         --------------  -----  \n",
      " 0   Invoice ID     1000 non-null   object \n",
      " 1   Branch         1000 non-null   object \n",
      " 2   City           1000 non-null   object \n",
      " 3   Customer type  1000 non-null   object \n",
      " 4   Gender         1000 non-null   object \n",
      " 5   Product line   1000 non-null   object \n",
      " 6   Unit price     1000 non-null   float64\n",
      " 7   Quantity       1000 non-null   float64\n",
      " 8   Tax 5%         1000 non-null   float64\n",
      " 9   Total          1000 non-null   float64\n",
      " 10  Date           1000 non-null   object \n",
      " 11  Time           1000 non-null   object \n",
      " 12  Payment        1000 non-null   object \n",
      "dtypes: float64(4), object(9)\n",
      "memory usage: 102.4+ KB\n"
     ]
    },
    {
     "data": {
      "text/html": [
       "<div>\n",
       "<style scoped>\n",
       "    .dataframe tbody tr th:only-of-type {\n",
       "        vertical-align: middle;\n",
       "    }\n",
       "\n",
       "    .dataframe tbody tr th {\n",
       "        vertical-align: top;\n",
       "    }\n",
       "\n",
       "    .dataframe thead th {\n",
       "        text-align: right;\n",
       "    }\n",
       "</style>\n",
       "<table border=\"1\" class=\"dataframe\">\n",
       "  <thead>\n",
       "    <tr style=\"text-align: right;\">\n",
       "      <th></th>\n",
       "      <th>Invoice ID</th>\n",
       "      <th>Branch</th>\n",
       "      <th>City</th>\n",
       "      <th>Customer type</th>\n",
       "      <th>Gender</th>\n",
       "      <th>Product line</th>\n",
       "      <th>Unit price</th>\n",
       "      <th>Quantity</th>\n",
       "      <th>Tax 5%</th>\n",
       "      <th>Total</th>\n",
       "      <th>Date</th>\n",
       "      <th>Time</th>\n",
       "      <th>Payment</th>\n",
       "    </tr>\n",
       "  </thead>\n",
       "  <tbody>\n",
       "    <tr>\n",
       "      <th>0</th>\n",
       "      <td>750-67-8428</td>\n",
       "      <td>A</td>\n",
       "      <td>Yangon</td>\n",
       "      <td>Member</td>\n",
       "      <td>Female</td>\n",
       "      <td>Health and beauty</td>\n",
       "      <td>74.69</td>\n",
       "      <td>7.0</td>\n",
       "      <td>26.1415</td>\n",
       "      <td>548.9715</td>\n",
       "      <td>01/05/2019</td>\n",
       "      <td>13:08</td>\n",
       "      <td>Ewallet</td>\n",
       "    </tr>\n",
       "    <tr>\n",
       "      <th>1</th>\n",
       "      <td>226-31-3081</td>\n",
       "      <td>C</td>\n",
       "      <td>Naypyitaw</td>\n",
       "      <td>Normal</td>\n",
       "      <td>Female</td>\n",
       "      <td>Electronic accessories</td>\n",
       "      <td>15.28</td>\n",
       "      <td>5.0</td>\n",
       "      <td>3.8200</td>\n",
       "      <td>80.2200</td>\n",
       "      <td>03/08/2019</td>\n",
       "      <td>10:29</td>\n",
       "      <td>Cash</td>\n",
       "    </tr>\n",
       "    <tr>\n",
       "      <th>2</th>\n",
       "      <td>631-41-3108</td>\n",
       "      <td>A</td>\n",
       "      <td>Yangon</td>\n",
       "      <td>Normal</td>\n",
       "      <td>Male</td>\n",
       "      <td>Home and lifestyle</td>\n",
       "      <td>46.33</td>\n",
       "      <td>7.0</td>\n",
       "      <td>16.2155</td>\n",
       "      <td>340.5255</td>\n",
       "      <td>03/03/2019</td>\n",
       "      <td>13:23</td>\n",
       "      <td>Credit card</td>\n",
       "    </tr>\n",
       "    <tr>\n",
       "      <th>3</th>\n",
       "      <td>123-19-1176</td>\n",
       "      <td>A</td>\n",
       "      <td>Yangon</td>\n",
       "      <td>Member</td>\n",
       "      <td>Male</td>\n",
       "      <td>Health and beauty</td>\n",
       "      <td>58.22</td>\n",
       "      <td>8.0</td>\n",
       "      <td>23.2880</td>\n",
       "      <td>489.0480</td>\n",
       "      <td>01/27/2019</td>\n",
       "      <td>20:33</td>\n",
       "      <td>Ewallet</td>\n",
       "    </tr>\n",
       "    <tr>\n",
       "      <th>4</th>\n",
       "      <td>373-73-7910</td>\n",
       "      <td>A</td>\n",
       "      <td>Yangon</td>\n",
       "      <td>Normal</td>\n",
       "      <td>Male</td>\n",
       "      <td>Sports and travel</td>\n",
       "      <td>86.31</td>\n",
       "      <td>7.0</td>\n",
       "      <td>30.2085</td>\n",
       "      <td>634.3785</td>\n",
       "      <td>02/08/2019</td>\n",
       "      <td>10:37</td>\n",
       "      <td>Ewallet</td>\n",
       "    </tr>\n",
       "  </tbody>\n",
       "</table>\n",
       "</div>"
      ],
      "text/plain": [
       "    Invoice ID Branch       City Customer type  Gender  \\\n",
       "0  750-67-8428      A     Yangon        Member  Female   \n",
       "1  226-31-3081      C  Naypyitaw        Normal  Female   \n",
       "2  631-41-3108      A     Yangon        Normal    Male   \n",
       "3  123-19-1176      A     Yangon        Member    Male   \n",
       "4  373-73-7910      A     Yangon        Normal    Male   \n",
       "\n",
       "             Product line  Unit price  Quantity   Tax 5%     Total  \\\n",
       "0       Health and beauty       74.69       7.0  26.1415  548.9715   \n",
       "1  Electronic accessories       15.28       5.0   3.8200   80.2200   \n",
       "2      Home and lifestyle       46.33       7.0  16.2155  340.5255   \n",
       "3       Health and beauty       58.22       8.0  23.2880  489.0480   \n",
       "4       Sports and travel       86.31       7.0  30.2085  634.3785   \n",
       "\n",
       "         Date   Time      Payment  \n",
       "0  01/05/2019  13:08      Ewallet  \n",
       "1  03/08/2019  10:29         Cash  \n",
       "2  03/03/2019  13:23  Credit card  \n",
       "3  01/27/2019  20:33      Ewallet  \n",
       "4  02/08/2019  10:37      Ewallet  "
      ]
     },
     "execution_count": 15,
     "metadata": {},
     "output_type": "execute_result"
    }
   ],
   "source": [
    "sm_sales.info()\n",
    "sm_sales.head(5)"
   ]
  },
  {
   "cell_type": "markdown",
   "id": "c47d782f",
   "metadata": {},
   "source": [
    "##### There are total of 1007 entries. All attributes entries has the same number of entries. This concludes that there are null or empty data's in the dataset"
   ]
  },
  {
   "cell_type": "markdown",
   "id": "076c8574",
   "metadata": {},
   "source": [
    "##### checking the total number of blank rows using `isnull()` and `sum()`"
   ]
  },
  {
   "cell_type": "code",
   "execution_count": 16,
   "id": "17d87083",
   "metadata": {},
   "outputs": [
    {
     "data": {
      "text/plain": [
       "Invoice ID       7\n",
       "Branch           7\n",
       "City             7\n",
       "Customer type    7\n",
       "Gender           7\n",
       "Product line     7\n",
       "Unit price       7\n",
       "Quantity         7\n",
       "Tax 5%           7\n",
       "Total            7\n",
       "Date             7\n",
       "Time             7\n",
       "Payment          7\n",
       "dtype: int64"
      ]
     },
     "execution_count": 16,
     "metadata": {},
     "output_type": "execute_result"
    }
   ],
   "source": [
    "sm_sales.isnull().sum()"
   ]
  },
  {
   "cell_type": "markdown",
   "id": "98c4a266",
   "metadata": {},
   "source": [
    "##### Let's remove all nulls/blanks using the `dropna()` method and check again the dataset"
   ]
  },
  {
   "cell_type": "code",
   "execution_count": 17,
   "id": "d2e9c7e3",
   "metadata": {},
   "outputs": [
    {
     "name": "stdout",
     "output_type": "stream",
     "text": [
      "<class 'pandas.core.frame.DataFrame'>\n",
      "Index: 1000 entries, 0 to 1006\n",
      "Data columns (total 13 columns):\n",
      " #   Column         Non-Null Count  Dtype  \n",
      "---  ------         --------------  -----  \n",
      " 0   Invoice ID     1000 non-null   object \n",
      " 1   Branch         1000 non-null   object \n",
      " 2   City           1000 non-null   object \n",
      " 3   Customer type  1000 non-null   object \n",
      " 4   Gender         1000 non-null   object \n",
      " 5   Product line   1000 non-null   object \n",
      " 6   Unit price     1000 non-null   float64\n",
      " 7   Quantity       1000 non-null   float64\n",
      " 8   Tax 5%         1000 non-null   float64\n",
      " 9   Total          1000 non-null   float64\n",
      " 10  Date           1000 non-null   object \n",
      " 11  Time           1000 non-null   object \n",
      " 12  Payment        1000 non-null   object \n",
      "dtypes: float64(4), object(9)\n",
      "memory usage: 109.4+ KB\n"
     ]
    },
    {
     "data": {
      "text/plain": [
       "Invoice ID       0\n",
       "Branch           0\n",
       "City             0\n",
       "Customer type    0\n",
       "Gender           0\n",
       "Product line     0\n",
       "Unit price       0\n",
       "Quantity         0\n",
       "Tax 5%           0\n",
       "Total            0\n",
       "Date             0\n",
       "Time             0\n",
       "Payment          0\n",
       "dtype: int64"
      ]
     },
     "execution_count": 17,
     "metadata": {},
     "output_type": "execute_result"
    }
   ],
   "source": [
    "sm_sales = sm_sales.dropna()\n",
    "sm_sales.info()\n",
    "sm_sales.isnull().sum()"
   ]
  },
  {
   "cell_type": "markdown",
   "id": "7396f01f",
   "metadata": {},
   "source": [
    "## **What do you want to say with your data?**"
   ]
  },
  {
   "cell_type": "markdown",
   "id": "0089fada",
   "metadata": {},
   "source": [
    "#### Find out the most preferred payment method used by the customers"
   ]
  },
  {
   "cell_type": "markdown",
   "id": "c4875cfb",
   "metadata": {},
   "source": [
    "##### Using the `groupby()` to group _Payment_ column based on the three payment means. Then use the `sum()` to get the total of each payment means"
   ]
  },
  {
   "cell_type": "code",
   "execution_count": 18,
   "id": "6f49b8ad",
   "metadata": {},
   "outputs": [
    {
     "data": {
      "text/html": [
       "<div>\n",
       "<style scoped>\n",
       "    .dataframe tbody tr th:only-of-type {\n",
       "        vertical-align: middle;\n",
       "    }\n",
       "\n",
       "    .dataframe tbody tr th {\n",
       "        vertical-align: top;\n",
       "    }\n",
       "\n",
       "    .dataframe thead th {\n",
       "        text-align: right;\n",
       "    }\n",
       "</style>\n",
       "<table border=\"1\" class=\"dataframe\">\n",
       "  <thead>\n",
       "    <tr style=\"text-align: right;\">\n",
       "      <th></th>\n",
       "      <th>Invoice ID</th>\n",
       "      <th>Branch</th>\n",
       "      <th>City</th>\n",
       "      <th>Customer type</th>\n",
       "      <th>Gender</th>\n",
       "      <th>Product line</th>\n",
       "      <th>Unit price</th>\n",
       "      <th>Quantity</th>\n",
       "      <th>Tax 5%</th>\n",
       "      <th>Total</th>\n",
       "      <th>Date</th>\n",
       "      <th>Time</th>\n",
       "    </tr>\n",
       "    <tr>\n",
       "      <th>Payment</th>\n",
       "      <th></th>\n",
       "      <th></th>\n",
       "      <th></th>\n",
       "      <th></th>\n",
       "      <th></th>\n",
       "      <th></th>\n",
       "      <th></th>\n",
       "      <th></th>\n",
       "      <th></th>\n",
       "      <th></th>\n",
       "      <th></th>\n",
       "      <th></th>\n",
       "    </tr>\n",
       "  </thead>\n",
       "  <tbody>\n",
       "    <tr>\n",
       "      <th>Cash</th>\n",
       "      <td>226-31-3081529-56-3974829-34-3910299-46-180564...</td>\n",
       "      <td>CBABBBABBBCBCCBCACAACBAAACCCCCABCCBCCCABACCBAB...</td>\n",
       "      <td>NaypyitawMandalayYangonMandalayMandalayMandala...</td>\n",
       "      <td>NormalMemberNormalMemberNormalNormalNormalMemb...</td>\n",
       "      <td>FemaleMaleFemaleFemaleMaleFemaleMaleMaleMaleMa...</td>\n",
       "      <td>Electronic accessoriesElectronic accessoriesHe...</td>\n",
       "      <td>19525.09</td>\n",
       "      <td>1896.0</td>\n",
       "      <td>5343.170</td>\n",
       "      <td>112206.570</td>\n",
       "      <td>03/08/201903/09/201903/29/201901/15/201902/08/...</td>\n",
       "      <td>10:2917:0319:2116:1915:3119:4815:3612:4314:491...</td>\n",
       "    </tr>\n",
       "    <tr>\n",
       "      <th>Credit card</th>\n",
       "      <td>631-41-3108665-32-9167692-92-5582656-95-934976...</td>\n",
       "      <td>AABAAABAABABBCCACCCACCABCCCCCACBCACBACCCCBABCA...</td>\n",
       "      <td>YangonYangonMandalayYangonYangonYangonMandalay...</td>\n",
       "      <td>NormalMemberMemberMemberNormalNormalNormalMemb...</td>\n",
       "      <td>MaleFemaleFemaleFemaleMaleMaleMaleFemaleFemale...</td>\n",
       "      <td>Home and lifestyleHealth and beautyFood and be...</td>\n",
       "      <td>16916.68</td>\n",
       "      <td>1722.0</td>\n",
       "      <td>4798.432</td>\n",
       "      <td>100767.072</td>\n",
       "      <td>03/03/201901/10/201902/20/201903/11/201901/01/...</td>\n",
       "      <td>13:2317:1513:2711:0310:3918:0012:2019:2012:171...</td>\n",
       "    </tr>\n",
       "    <tr>\n",
       "      <th>Ewallet</th>\n",
       "      <td>750-67-8428123-19-1176373-73-7910699-14-302635...</td>\n",
       "      <td>AAACACBAABCBAACCAACBBCBBACBCBBACBCCCAABAABABBA...</td>\n",
       "      <td>YangonYangonYangonNaypyitawYangonNaypyitawMand...</td>\n",
       "      <td>MemberMemberNormalNormalMemberNormalMemberNorm...</td>\n",
       "      <td>FemaleMaleMaleMaleFemaleFemaleFemaleFemaleMale...</td>\n",
       "      <td>Health and beautyHealth and beautySports and t...</td>\n",
       "      <td>19230.36</td>\n",
       "      <td>1892.0</td>\n",
       "      <td>5237.767</td>\n",
       "      <td>109993.107</td>\n",
       "      <td>01/05/201901/27/201902/08/201903/25/201902/25/...</td>\n",
       "      <td>13:0820:3310:3718:3014:3611:3818:0710:2516:481...</td>\n",
       "    </tr>\n",
       "  </tbody>\n",
       "</table>\n",
       "</div>"
      ],
      "text/plain": [
       "                                                    Invoice ID  \\\n",
       "Payment                                                          \n",
       "Cash         226-31-3081529-56-3974829-34-3910299-46-180564...   \n",
       "Credit card  631-41-3108665-32-9167692-92-5582656-95-934976...   \n",
       "Ewallet      750-67-8428123-19-1176373-73-7910699-14-302635...   \n",
       "\n",
       "                                                        Branch  \\\n",
       "Payment                                                          \n",
       "Cash         CBABBBABBBCBCCBCACAACBAAACCCCCABCCBCCCABACCBAB...   \n",
       "Credit card  AABAAABAABABBCCACCCACCABCCCCCACBCACBACCCCBABCA...   \n",
       "Ewallet      AAACACBAABCBAACCAACBBCBBACBCBBACBCCCAABAABABBA...   \n",
       "\n",
       "                                                          City  \\\n",
       "Payment                                                          \n",
       "Cash         NaypyitawMandalayYangonMandalayMandalayMandala...   \n",
       "Credit card  YangonYangonMandalayYangonYangonYangonMandalay...   \n",
       "Ewallet      YangonYangonYangonNaypyitawYangonNaypyitawMand...   \n",
       "\n",
       "                                                 Customer type  \\\n",
       "Payment                                                          \n",
       "Cash         NormalMemberNormalMemberNormalNormalNormalMemb...   \n",
       "Credit card  NormalMemberMemberMemberNormalNormalNormalMemb...   \n",
       "Ewallet      MemberMemberNormalNormalMemberNormalMemberNorm...   \n",
       "\n",
       "                                                        Gender  \\\n",
       "Payment                                                          \n",
       "Cash         FemaleMaleFemaleFemaleMaleFemaleMaleMaleMaleMa...   \n",
       "Credit card  MaleFemaleFemaleFemaleMaleMaleMaleFemaleFemale...   \n",
       "Ewallet      FemaleMaleMaleMaleFemaleFemaleFemaleFemaleMale...   \n",
       "\n",
       "                                                  Product line  Unit price  \\\n",
       "Payment                                                                      \n",
       "Cash         Electronic accessoriesElectronic accessoriesHe...    19525.09   \n",
       "Credit card  Home and lifestyleHealth and beautyFood and be...    16916.68   \n",
       "Ewallet      Health and beautyHealth and beautySports and t...    19230.36   \n",
       "\n",
       "             Quantity    Tax 5%       Total  \\\n",
       "Payment                                       \n",
       "Cash           1896.0  5343.170  112206.570   \n",
       "Credit card    1722.0  4798.432  100767.072   \n",
       "Ewallet        1892.0  5237.767  109993.107   \n",
       "\n",
       "                                                          Date  \\\n",
       "Payment                                                          \n",
       "Cash         03/08/201903/09/201903/29/201901/15/201902/08/...   \n",
       "Credit card  03/03/201901/10/201902/20/201903/11/201901/01/...   \n",
       "Ewallet      01/05/201901/27/201902/08/201903/25/201902/25/...   \n",
       "\n",
       "                                                          Time  \n",
       "Payment                                                         \n",
       "Cash         10:2917:0319:2116:1915:3119:4815:3612:4314:491...  \n",
       "Credit card  13:2317:1513:2711:0310:3918:0012:2019:2012:171...  \n",
       "Ewallet      13:0820:3310:3718:3014:3611:3818:0710:2516:481...  "
      ]
     },
     "execution_count": 18,
     "metadata": {},
     "output_type": "execute_result"
    }
   ],
   "source": [
    "payment = sm_sales.groupby('Payment')\n",
    "payment.sum()"
   ]
  },
  {
   "cell_type": "markdown",
   "id": "db92e92c",
   "metadata": {},
   "source": [
    "##### creating a simple bar graph to present the result"
   ]
  },
  {
   "cell_type": "code",
   "execution_count": 19,
   "id": "f73de738",
   "metadata": {},
   "outputs": [
    {
     "data": {
      "image/png": "[encoded data removed]",
      "text/plain": [
       "<Figure size 640x480 with 1 Axes>"
      ]
     },
     "metadata": {},
     "output_type": "display_data"
    }
   ],
   "source": [
    "p_categories = ['Cash', 'Credit Card', 'Ewallet']\n",
    "\n",
    "plt.bar(p_categories, sm_sales.groupby(['Payment']).sum()['Total'])\n",
    "\n",
    "plt.title(\"Sales by Payment\")\n",
    "plt.ylabel('Sales in Kyat (K)')\n",
    "plt.xlabel('')\n",
    "\n",
    "plt.show()"
   ]
  },
  {
   "cell_type": "code",
   "execution_count": 20,
   "id": "4c7d9dea",
   "metadata": {},
   "outputs": [
    {
     "data": {
      "text/html": [
       "<div>\n",
       "<style scoped>\n",
       "    .dataframe tbody tr th:only-of-type {\n",
       "        vertical-align: middle;\n",
       "    }\n",
       "\n",
       "    .dataframe tbody tr th {\n",
       "        vertical-align: top;\n",
       "    }\n",
       "\n",
       "    .dataframe thead th {\n",
       "        text-align: right;\n",
       "    }\n",
       "</style>\n",
       "<table border=\"1\" class=\"dataframe\">\n",
       "  <thead>\n",
       "    <tr style=\"text-align: right;\">\n",
       "      <th></th>\n",
       "      <th>Invoice ID</th>\n",
       "      <th>Branch</th>\n",
       "      <th>City</th>\n",
       "      <th>Customer type</th>\n",
       "      <th>Gender</th>\n",
       "      <th>Product line</th>\n",
       "      <th>Unit price</th>\n",
       "      <th>Quantity</th>\n",
       "      <th>Tax 5%</th>\n",
       "      <th>Total</th>\n",
       "      <th>Date</th>\n",
       "      <th>Time</th>\n",
       "      <th>Payment</th>\n",
       "    </tr>\n",
       "  </thead>\n",
       "  <tbody>\n",
       "    <tr>\n",
       "      <th>0</th>\n",
       "      <td>750-67-8428</td>\n",
       "      <td>A</td>\n",
       "      <td>Yangon</td>\n",
       "      <td>Member</td>\n",
       "      <td>Female</td>\n",
       "      <td>Health and beauty</td>\n",
       "      <td>74.69</td>\n",
       "      <td>7.0</td>\n",
       "      <td>26.1415</td>\n",
       "      <td>548.9715</td>\n",
       "      <td>01/05/2019</td>\n",
       "      <td>13:08</td>\n",
       "      <td>Ewallet</td>\n",
       "    </tr>\n",
       "    <tr>\n",
       "      <th>1</th>\n",
       "      <td>226-31-3081</td>\n",
       "      <td>C</td>\n",
       "      <td>Naypyitaw</td>\n",
       "      <td>Normal</td>\n",
       "      <td>Female</td>\n",
       "      <td>Electronic accessories</td>\n",
       "      <td>15.28</td>\n",
       "      <td>5.0</td>\n",
       "      <td>3.8200</td>\n",
       "      <td>80.2200</td>\n",
       "      <td>03/08/2019</td>\n",
       "      <td>10:29</td>\n",
       "      <td>Cash</td>\n",
       "    </tr>\n",
       "    <tr>\n",
       "      <th>2</th>\n",
       "      <td>631-41-3108</td>\n",
       "      <td>A</td>\n",
       "      <td>Yangon</td>\n",
       "      <td>Normal</td>\n",
       "      <td>Male</td>\n",
       "      <td>Home and lifestyle</td>\n",
       "      <td>46.33</td>\n",
       "      <td>7.0</td>\n",
       "      <td>16.2155</td>\n",
       "      <td>340.5255</td>\n",
       "      <td>03/03/2019</td>\n",
       "      <td>13:23</td>\n",
       "      <td>Credit card</td>\n",
       "    </tr>\n",
       "    <tr>\n",
       "      <th>3</th>\n",
       "      <td>123-19-1176</td>\n",
       "      <td>A</td>\n",
       "      <td>Yangon</td>\n",
       "      <td>Member</td>\n",
       "      <td>Male</td>\n",
       "      <td>Health and beauty</td>\n",
       "      <td>58.22</td>\n",
       "      <td>8.0</td>\n",
       "      <td>23.2880</td>\n",
       "      <td>489.0480</td>\n",
       "      <td>01/27/2019</td>\n",
       "      <td>20:33</td>\n",
       "      <td>Ewallet</td>\n",
       "    </tr>\n",
       "    <tr>\n",
       "      <th>4</th>\n",
       "      <td>373-73-7910</td>\n",
       "      <td>A</td>\n",
       "      <td>Yangon</td>\n",
       "      <td>Normal</td>\n",
       "      <td>Male</td>\n",
       "      <td>Sports and travel</td>\n",
       "      <td>86.31</td>\n",
       "      <td>7.0</td>\n",
       "      <td>30.2085</td>\n",
       "      <td>634.3785</td>\n",
       "      <td>02/08/2019</td>\n",
       "      <td>10:37</td>\n",
       "      <td>Ewallet</td>\n",
       "    </tr>\n",
       "  </tbody>\n",
       "</table>\n",
       "</div>"
      ],
      "text/plain": [
       "    Invoice ID Branch       City Customer type  Gender  \\\n",
       "0  750-67-8428      A     Yangon        Member  Female   \n",
       "1  226-31-3081      C  Naypyitaw        Normal  Female   \n",
       "2  631-41-3108      A     Yangon        Normal    Male   \n",
       "3  123-19-1176      A     Yangon        Member    Male   \n",
       "4  373-73-7910      A     Yangon        Normal    Male   \n",
       "\n",
       "             Product line  Unit price  Quantity   Tax 5%     Total  \\\n",
       "0       Health and beauty       74.69       7.0  26.1415  548.9715   \n",
       "1  Electronic accessories       15.28       5.0   3.8200   80.2200   \n",
       "2      Home and lifestyle       46.33       7.0  16.2155  340.5255   \n",
       "3       Health and beauty       58.22       8.0  23.2880  489.0480   \n",
       "4       Sports and travel       86.31       7.0  30.2085  634.3785   \n",
       "\n",
       "         Date   Time      Payment  \n",
       "0  01/05/2019  13:08      Ewallet  \n",
       "1  03/08/2019  10:29         Cash  \n",
       "2  03/03/2019  13:23  Credit card  \n",
       "3  01/27/2019  20:33      Ewallet  \n",
       "4  02/08/2019  10:37      Ewallet  "
      ]
     },
     "execution_count": 20,
     "metadata": {},
     "output_type": "execute_result"
    }
   ],
   "source": [
    "sm_sales.head()"
   ]
  },
  {
   "cell_type": "markdown",
   "id": "cd92db0b",
   "metadata": {},
   "source": [
    "##### creating a simple bar graph to present the result of total sales of payment method and gender"
   ]
  },
  {
   "cell_type": "code",
   "execution_count": 24,
   "id": "9bd8af2b",
   "metadata": {},
   "outputs": [
    {
     "data": {
      "image/png": "[encoded data removed]",
      "text/plain": [
       "<Figure size 640x480 with 1 Axes>"
      ]
     },
     "metadata": {},
     "output_type": "display_data"
    }
   ],
   "source": [
    "p_categories = ['Cash', 'Credit Card', 'Ewallet']\n",
    "plt.bar(p_categories, sm_sales.groupby(['Payment']).sum()['Total'], color = 'grey')\n",
    "\n",
    "plt.title(\"Sales by Payment\")\n",
    "plt.ylabel('Sales in Kyat (K)')\n",
    "\n",
    "plt.show()"
   ]
  },
  {
   "cell_type": "code",
   "execution_count": 26,
   "id": "3975da87",
   "metadata": {},
   "outputs": [
    {
     "data": {
      "image/png": "[encoded data removed]",
      "text/plain": [
       "<Figure size 640x480 with 1 Axes>"
      ]
     },
     "metadata": {},
     "output_type": "display_data"
    }
   ],
   "source": [
    "gender = ['Male', 'Female']\n",
    "plt.bar(gender, sm_sales.groupby(['Gender']).sum()['Total'], color = 'grey')\n",
    "\n",
    "plt.title(\"Sales by Gender\")\n",
    "plt.ylabel('Sales in Kyat (K)')\n",
    "\n",
    "plt.show()"
   ]
  },
  {
   "cell_type": "markdown",
   "id": "5f84d869",
   "metadata": {},
   "source": [
    "#### `subplot()` : two graphs side-by-side "
   ]
  },
  {
   "cell_type": "code",
   "execution_count": 27,
   "id": "66f0e182",
   "metadata": {},
   "outputs": [
    {
     "data": {
      "image/png": "[encoded data removed]",
      "text/plain": [
       "<Figure size 1200x800 with 2 Axes>"
      ]
     },
     "metadata": {},
     "output_type": "display_data"
    }
   ],
   "source": [
    "fig = plt.figure(figsize=(12, 8))\n",
    "\n",
    "#Plot 1, left graph - Payment categories\n",
    "plt.subplot(1,2,1)\n",
    "p_categories = ['Cash', 'Credit Card', 'Ewallet']\n",
    "plt.bar(p_categories, sm_sales.groupby(['Payment']).sum()['Total'], color = 'grey')\n",
    "\n",
    "plt.title(\"Sales by Payment\")\n",
    "plt.ylabel('Sales in Kyat (K)')\n",
    "\n",
    "plt.ylim(0, 200000)\n",
    "\n",
    "#Plot 2, right graph - gender categories\n",
    "plt.subplot(1,2,2)\n",
    "gender = ['Male', 'Female']\n",
    "plt.bar(gender, sm_sales.groupby(['Gender']).sum()['Total'], color = 'grey')\n",
    "\n",
    "plt.title(\"Sales by Gender\")\n",
    "\n",
    "plt.ylim(0, 200000)\n",
    "\n",
    "plt.show()\n"
   ]
  }
 ],
 "metadata": {
  "kernelspec": {
   "display_name": "Python 3 (ipykernel)",
   "language": "python",
   "name": "python3"
  },
  "language_info": {
   "codemirror_mode": {
    "name": "ipython",
    "version": 3
   },
   "file_extension": ".py",
   "mimetype": "text/x-python",
   "name": "python",
   "nbconvert_exporter": "python",
   "pygments_lexer": "ipython3",
   "version": "3.12.2"
  }
 },
 "nbformat": 4,
 "nbformat_minor": 5
}
